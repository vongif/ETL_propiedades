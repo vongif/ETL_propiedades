{
 "cells": [
  {
   "cell_type": "code",
   "execution_count": 55,
   "metadata": {},
   "outputs": [],
   "source": [
    "import pandas as pd\n",
    "\n",
    "# Cargar el archivo CSV en un DataFrame\n",
    "file_path = 'ar_properties.csv'\n",
    "df = pd.read_csv(file_path)\n"
   ]
  },
  {
   "cell_type": "code",
   "execution_count": 56,
   "metadata": {},
   "outputs": [
    {
     "name": "stdout",
     "output_type": "stream",
     "text": [
      "                         id    ad_type  start_date    end_date  created_on  \\\n",
      "0  wdQ5hWhv8P14T7Sh9g4QCg==  Propiedad  2020-12-25  9999-12-31  2020-12-25   \n",
      "1  nnMBYZ4RMRY+vm753EtA+g==  Propiedad  2020-12-25  9999-12-31  2020-12-25   \n",
      "2  +dnVA1K6JxzL1zAjOEQ1pA==  Propiedad  2020-12-25  2020-12-29  2020-12-25   \n",
      "3  dLHXKN5/sRZpm9Yk0yI2nA==  Propiedad  2020-12-25  2020-12-29  2020-12-25   \n",
      "4  wtw/k887EPipd37UYHKb1Q==  Propiedad  2020-12-25  9999-12-31  2020-12-25   \n",
      "\n",
      "         lat        lon         l1                        l2        l3  ...  \\\n",
      "0 -32.716652 -68.642692  Argentina                   Mendoza       NaN  ...   \n",
      "1 -24.797723 -65.467514  Argentina                     Salta       NaN  ...   \n",
      "2 -34.919373 -58.020591  Argentina    Bs.As. G.B.A. Zona Sur  La Plata  ...   \n",
      "3 -34.919455 -58.024807  Argentina    Bs.As. G.B.A. Zona Sur  La Plata  ...   \n",
      "4 -34.364924 -58.783143  Argentina  Bs.As. G.B.A. Zona Norte   Escobar  ...   \n",
      "\n",
      "  bathrooms surface_total  surface_covered  price  currency  price_period  \\\n",
      "0       NaN         350.0            350.0    NaN       NaN           NaN   \n",
      "1       NaN        1541.0           1541.0    NaN       NaN       Mensual   \n",
      "2       NaN        1000.0           1000.0    NaN       NaN       Mensual   \n",
      "3       NaN        1000.0           1000.0    NaN       NaN       Mensual   \n",
      "4       NaN       18164.0          18164.0    NaN       NaN       Mensual   \n",
      "\n",
      "                                               title  \\\n",
      "0                     Excelentes Lotes Sobre Ruta 34   \n",
      "1  TERRENO + VENTA + JARDINES DE SAN LORENZO +150...   \n",
      "2               Lote en Venta de 1000 m2 en La Plata   \n",
      "3               Lote en Venta de 1000 m2 en La Plata   \n",
      "4                                 PANAMERICANA 47300   \n",
      "\n",
      "                                         description  property_type  \\\n",
      "0  Corredor Responsable: VICTOR E. MONTIVERO - C....           Lote   \n",
      "1  Corredor Responsable: Pablo Castañeda - C.U.C....           Lote   \n",
      "2  Corredor Responsable: Rico Sebastián - Martill...           Lote   \n",
      "3  Corredor Responsable: Rico Sebastián - Martill...           Lote   \n",
      "4  Nave principal 66 x 90 m:    6005 m2 cubiertos...           Otro   \n",
      "\n",
      "  operation_type  \n",
      "0          Venta  \n",
      "1          Venta  \n",
      "2          Venta  \n",
      "3          Venta  \n",
      "4          Venta  \n",
      "\n",
      "[5 rows x 25 columns]\n"
     ]
    }
   ],
   "source": [
    "print(df.head())"
   ]
  },
  {
   "cell_type": "code",
   "execution_count": 57,
   "metadata": {},
   "outputs": [],
   "source": [
    "df = df.drop(columns=['l6'])\n"
   ]
  },
  {
   "cell_type": "code",
   "execution_count": 58,
   "metadata": {},
   "outputs": [
    {
     "name": "stdout",
     "output_type": "stream",
     "text": [
      "<class 'pandas.core.frame.DataFrame'>\n",
      "RangeIndex: 996803 entries, 0 to 996802\n",
      "Data columns (total 24 columns):\n",
      " #   Column           Non-Null Count   Dtype  \n",
      "---  ------           --------------   -----  \n",
      " 0   id               996803 non-null  object \n",
      " 1   ad_type          996803 non-null  object \n",
      " 2   start_date       996803 non-null  object \n",
      " 3   end_date         996803 non-null  object \n",
      " 4   created_on       996803 non-null  object \n",
      " 5   lat              846348 non-null  float64\n",
      " 6   lon              845417 non-null  float64\n",
      " 7   l1               996803 non-null  object \n",
      " 8   l2               996803 non-null  object \n",
      " 9   l3               943603 non-null  object \n",
      " 10  l4               238381 non-null  object \n",
      " 11  l5               4968 non-null    object \n",
      " 12  rooms            523932 non-null  float64\n",
      " 13  bedrooms         464194 non-null  float64\n",
      " 14  bathrooms        773996 non-null  float64\n",
      " 15  surface_total    377293 non-null  float64\n",
      " 16  surface_covered  379244 non-null  float64\n",
      " 17  price            960086 non-null  float64\n",
      " 18  currency         958709 non-null  object \n",
      " 19  price_period     361978 non-null  object \n",
      " 20  title            996803 non-null  object \n",
      " 21  description      996785 non-null  object \n",
      " 22  property_type    996803 non-null  object \n",
      " 23  operation_type   996803 non-null  object \n",
      "dtypes: float64(8), object(16)\n",
      "memory usage: 182.5+ MB\n",
      "None\n"
     ]
    }
   ],
   "source": [
    "print(df.info())"
   ]
  },
  {
   "cell_type": "code",
   "execution_count": 59,
   "metadata": {},
   "outputs": [],
   "source": [
    "# Eliminar filas sin id\n",
    "df = df.dropna(subset=['id'])\n"
   ]
  },
  {
   "cell_type": "code",
   "execution_count": 60,
   "metadata": {},
   "outputs": [
    {
     "name": "stdout",
     "output_type": "stream",
     "text": [
      "<class 'pandas.core.frame.DataFrame'>\n",
      "RangeIndex: 996803 entries, 0 to 996802\n",
      "Data columns (total 24 columns):\n",
      " #   Column           Non-Null Count   Dtype  \n",
      "---  ------           --------------   -----  \n",
      " 0   id               996803 non-null  object \n",
      " 1   ad_type          996803 non-null  object \n",
      " 2   start_date       996803 non-null  object \n",
      " 3   end_date         996803 non-null  object \n",
      " 4   created_on       996803 non-null  object \n",
      " 5   lat              846348 non-null  float64\n",
      " 6   lon              845417 non-null  float64\n",
      " 7   l1               996803 non-null  object \n",
      " 8   l2               996803 non-null  object \n",
      " 9   l3               943603 non-null  object \n",
      " 10  l4               238381 non-null  object \n",
      " 11  l5               4968 non-null    object \n",
      " 12  rooms            523932 non-null  float64\n",
      " 13  bedrooms         464194 non-null  float64\n",
      " 14  bathrooms        773996 non-null  float64\n",
      " 15  surface_total    377293 non-null  float64\n",
      " 16  surface_covered  379244 non-null  float64\n",
      " 17  price            960086 non-null  float64\n",
      " 18  currency         958709 non-null  object \n",
      " 19  price_period     361978 non-null  object \n",
      " 20  title            996803 non-null  object \n",
      " 21  description      996785 non-null  object \n",
      " 22  property_type    996803 non-null  object \n",
      " 23  operation_type   996803 non-null  object \n",
      "dtypes: float64(8), object(16)\n",
      "memory usage: 182.5+ MB\n",
      "None\n"
     ]
    }
   ],
   "source": [
    "print(df.info())"
   ]
  },
  {
   "cell_type": "code",
   "execution_count": 61,
   "metadata": {},
   "outputs": [],
   "source": [
    "df = df.dropna(subset=['lat', 'lon'])\n",
    "df['rooms'] = df['rooms'].fillna(0)\n",
    "df['bedrooms'] = df['bedrooms'].fillna(0)\n",
    "df['bathrooms'] = df['bathrooms'].fillna(0)\n",
    "df['price'] = df['price'].fillna(0)\n",
    "df['currency'] = df['currency'].fillna('unknown')\n",
    "df['price_period'] = df['price_period'].fillna('unknown')\n",
    "df['l3'] = df['l3'].fillna('unknown')\n",
    "df['l4'] = df['l4'].fillna('unknown')\n",
    "df['l5'] = df['l5'].fillna('unknown')\n",
    "df['description'] = df['description'].fillna('')"
   ]
  },
  {
   "cell_type": "code",
   "execution_count": 62,
   "metadata": {},
   "outputs": [],
   "source": [
    "df['start_date'] = pd.to_datetime(df['start_date'])\n",
    "df['created_on'] = pd.to_datetime(df['created_on'])\n",
    "df['rooms'] = df['rooms'].astype(int)\n",
    "df['bedrooms'] = df['bedrooms'].astype(int)\n",
    "df['bathrooms'] = df['bathrooms'].astype(int)\n",
    "df['price'] = df['price'].astype(float)"
   ]
  },
  {
   "cell_type": "code",
   "execution_count": 63,
   "metadata": {},
   "outputs": [
    {
     "name": "stdout",
     "output_type": "stream",
     "text": [
      "<class 'pandas.core.frame.DataFrame'>\n",
      "Index: 845417 entries, 0 to 996802\n",
      "Data columns (total 24 columns):\n",
      " #   Column           Non-Null Count   Dtype         \n",
      "---  ------           --------------   -----         \n",
      " 0   id               845417 non-null  object        \n",
      " 1   ad_type          845417 non-null  object        \n",
      " 2   start_date       845417 non-null  datetime64[ns]\n",
      " 3   end_date         845417 non-null  object        \n",
      " 4   created_on       845417 non-null  datetime64[ns]\n",
      " 5   lat              845417 non-null  float64       \n",
      " 6   lon              845417 non-null  float64       \n",
      " 7   l1               845417 non-null  object        \n",
      " 8   l2               845417 non-null  object        \n",
      " 9   l3               845417 non-null  object        \n",
      " 10  l4               845417 non-null  object        \n",
      " 11  l5               845417 non-null  object        \n",
      " 12  rooms            845417 non-null  int64         \n",
      " 13  bedrooms         845417 non-null  int64         \n",
      " 14  bathrooms        845417 non-null  int64         \n",
      " 15  surface_total    333239 non-null  float64       \n",
      " 16  surface_covered  336199 non-null  float64       \n",
      " 17  price            845417 non-null  float64       \n",
      " 18  currency         845417 non-null  object        \n",
      " 19  price_period     845417 non-null  object        \n",
      " 20  title            845417 non-null  object        \n",
      " 21  description      845417 non-null  object        \n",
      " 22  property_type    845417 non-null  object        \n",
      " 23  operation_type   845417 non-null  object        \n",
      "dtypes: datetime64[ns](2), float64(5), int64(3), object(14)\n",
      "memory usage: 161.3+ MB\n",
      "None\n"
     ]
    }
   ],
   "source": [
    "print(df.info())"
   ]
  },
  {
   "cell_type": "code",
   "execution_count": 64,
   "metadata": {},
   "outputs": [
    {
     "name": "stdout",
     "output_type": "stream",
     "text": [
      "                         id    ad_type start_date    end_date created_on  \\\n",
      "0  wdQ5hWhv8P14T7Sh9g4QCg==  Propiedad 2020-12-25  9999-12-31 2020-12-25   \n",
      "1  nnMBYZ4RMRY+vm753EtA+g==  Propiedad 2020-12-25  9999-12-31 2020-12-25   \n",
      "2  +dnVA1K6JxzL1zAjOEQ1pA==  Propiedad 2020-12-25  2020-12-29 2020-12-25   \n",
      "3  dLHXKN5/sRZpm9Yk0yI2nA==  Propiedad 2020-12-25  2020-12-29 2020-12-25   \n",
      "4  wtw/k887EPipd37UYHKb1Q==  Propiedad 2020-12-25  9999-12-31 2020-12-25   \n",
      "\n",
      "         lat        lon         l1                        l2        l3  ...  \\\n",
      "0 -32.716652 -68.642692  Argentina                   Mendoza   unknown  ...   \n",
      "1 -24.797723 -65.467514  Argentina                     Salta   unknown  ...   \n",
      "2 -34.919373 -58.020591  Argentina    Bs.As. G.B.A. Zona Sur  La Plata  ...   \n",
      "3 -34.919455 -58.024807  Argentina    Bs.As. G.B.A. Zona Sur  La Plata  ...   \n",
      "4 -34.364924 -58.783143  Argentina  Bs.As. G.B.A. Zona Norte   Escobar  ...   \n",
      "\n",
      "  bathrooms surface_total  surface_covered  price  currency  price_period  \\\n",
      "0         0         350.0            350.0    0.0   unknown       unknown   \n",
      "1         0        1541.0           1541.0    0.0   unknown       Mensual   \n",
      "2         0        1000.0           1000.0    0.0   unknown       Mensual   \n",
      "3         0        1000.0           1000.0    0.0   unknown       Mensual   \n",
      "4         0       18164.0          18164.0    0.0   unknown       Mensual   \n",
      "\n",
      "                                               title  \\\n",
      "0                     Excelentes Lotes Sobre Ruta 34   \n",
      "1  TERRENO + VENTA + JARDINES DE SAN LORENZO +150...   \n",
      "2               Lote en Venta de 1000 m2 en La Plata   \n",
      "3               Lote en Venta de 1000 m2 en La Plata   \n",
      "4                                 PANAMERICANA 47300   \n",
      "\n",
      "                                         description property_type  \\\n",
      "0  Corredor Responsable: VICTOR E. MONTIVERO - C....          Lote   \n",
      "1  Corredor Responsable: Pablo Castañeda - C.U.C....          Lote   \n",
      "2  Corredor Responsable: Rico Sebastián - Martill...          Lote   \n",
      "3  Corredor Responsable: Rico Sebastián - Martill...          Lote   \n",
      "4  Nave principal 66 x 90 m:    6005 m2 cubiertos...          Otro   \n",
      "\n",
      "  operation_type  \n",
      "0          Venta  \n",
      "1          Venta  \n",
      "2          Venta  \n",
      "3          Venta  \n",
      "4          Venta  \n",
      "\n",
      "[5 rows x 24 columns]\n"
     ]
    }
   ],
   "source": [
    "print(df.head())\n"
   ]
  },
  {
   "cell_type": "code",
   "execution_count": 65,
   "metadata": {},
   "outputs": [],
   "source": [
    "df = df.rename(columns={'id': 'Id', 'ad_type': 'Tipo', 'start_date': 'Fecha Publicacion', 'created_on': 'Fecha Creacion', 'lat': 'Latitud', 'lon': 'Longitud', 'l1': 'Pais', 'l2': 'Provincia','l3': 'Ciudad','rooms': 'Habitaciones'})"
   ]
  },
  {
   "cell_type": "code",
   "execution_count": 66,
   "metadata": {},
   "outputs": [
    {
     "name": "stdout",
     "output_type": "stream",
     "text": [
      "<class 'pandas.core.frame.DataFrame'>\n",
      "Index: 845417 entries, 0 to 996802\n",
      "Data columns (total 24 columns):\n",
      " #   Column             Non-Null Count   Dtype         \n",
      "---  ------             --------------   -----         \n",
      " 0   Id                 845417 non-null  object        \n",
      " 1   Tipo               845417 non-null  object        \n",
      " 2   Fecha Publicacion  845417 non-null  datetime64[ns]\n",
      " 3   end_date           845417 non-null  object        \n",
      " 4   Fecha Creacion     845417 non-null  datetime64[ns]\n",
      " 5   Latitud            845417 non-null  float64       \n",
      " 6   Longitud           845417 non-null  float64       \n",
      " 7   Pais               845417 non-null  object        \n",
      " 8   Provincia          845417 non-null  object        \n",
      " 9   Ciudad             845417 non-null  object        \n",
      " 10  l4                 845417 non-null  object        \n",
      " 11  l5                 845417 non-null  object        \n",
      " 12  Habitaciones       845417 non-null  int64         \n",
      " 13  bedrooms           845417 non-null  int64         \n",
      " 14  bathrooms          845417 non-null  int64         \n",
      " 15  surface_total      333239 non-null  float64       \n",
      " 16  surface_covered    336199 non-null  float64       \n",
      " 17  price              845417 non-null  float64       \n",
      " 18  currency           845417 non-null  object        \n",
      " 19  price_period       845417 non-null  object        \n",
      " 20  title              845417 non-null  object        \n",
      " 21  description        845417 non-null  object        \n",
      " 22  property_type      845417 non-null  object        \n",
      " 23  operation_type     845417 non-null  object        \n",
      "dtypes: datetime64[ns](2), float64(5), int64(3), object(14)\n",
      "memory usage: 161.3+ MB\n",
      "None\n"
     ]
    }
   ],
   "source": [
    "print(df.info())"
   ]
  },
  {
   "cell_type": "code",
   "execution_count": 67,
   "metadata": {},
   "outputs": [],
   "source": [
    "df = df.drop(columns=['l4','l5'])"
   ]
  },
  {
   "cell_type": "code",
   "execution_count": 68,
   "metadata": {},
   "outputs": [],
   "source": [
    "df = df.rename(columns={'bedrooms': 'Dormitorios', 'bathrooms': 'Baños', 'price': 'precio', 'currency': 'Moneda', 'price_period': 'Periodo', 'title': 'Titulo', 'description': 'Descripcion', 'property_type': 'Tipo de propiedad','operation_type': 'Tipo de operacion'})"
   ]
  },
  {
   "cell_type": "code",
   "execution_count": 69,
   "metadata": {},
   "outputs": [
    {
     "name": "stdout",
     "output_type": "stream",
     "text": [
      "<class 'pandas.core.frame.DataFrame'>\n",
      "Index: 845417 entries, 0 to 996802\n",
      "Data columns (total 22 columns):\n",
      " #   Column             Non-Null Count   Dtype         \n",
      "---  ------             --------------   -----         \n",
      " 0   Id                 845417 non-null  object        \n",
      " 1   Tipo               845417 non-null  object        \n",
      " 2   Fecha Publicacion  845417 non-null  datetime64[ns]\n",
      " 3   end_date           845417 non-null  object        \n",
      " 4   Fecha Creacion     845417 non-null  datetime64[ns]\n",
      " 5   Latitud            845417 non-null  float64       \n",
      " 6   Longitud           845417 non-null  float64       \n",
      " 7   Pais               845417 non-null  object        \n",
      " 8   Provincia          845417 non-null  object        \n",
      " 9   Ciudad             845417 non-null  object        \n",
      " 10  Habitaciones       845417 non-null  int64         \n",
      " 11  Dormitorios        845417 non-null  int64         \n",
      " 12  Baños              845417 non-null  int64         \n",
      " 13  surface_total      333239 non-null  float64       \n",
      " 14  surface_covered    336199 non-null  float64       \n",
      " 15  precio             845417 non-null  float64       \n",
      " 16  Moneda             845417 non-null  object        \n",
      " 17  Periodo            845417 non-null  object        \n",
      " 18  Titulo             845417 non-null  object        \n",
      " 19  Descripcion        845417 non-null  object        \n",
      " 20  Tipo de propiedad  845417 non-null  object        \n",
      " 21  Tipo de operacion  845417 non-null  object        \n",
      "dtypes: datetime64[ns](2), float64(5), int64(3), object(12)\n",
      "memory usage: 148.4+ MB\n",
      "None\n"
     ]
    }
   ],
   "source": [
    "print(df.info())"
   ]
  },
  {
   "cell_type": "code",
   "execution_count": 70,
   "metadata": {},
   "outputs": [
    {
     "name": "stdout",
     "output_type": "stream",
     "text": [
      "Id                        0\n",
      "Tipo                      0\n",
      "Fecha Publicacion         0\n",
      "end_date                  0\n",
      "Fecha Creacion            0\n",
      "Latitud                   0\n",
      "Longitud                  0\n",
      "Pais                      0\n",
      "Provincia                 0\n",
      "Ciudad                    0\n",
      "Habitaciones              0\n",
      "Dormitorios               0\n",
      "Baños                     0\n",
      "surface_total        512178\n",
      "surface_covered      509218\n",
      "precio                    0\n",
      "Moneda                    0\n",
      "Periodo                   0\n",
      "Titulo                    0\n",
      "Descripcion               0\n",
      "Tipo de propiedad         0\n",
      "Tipo de operacion         0\n",
      "dtype: int64\n"
     ]
    }
   ],
   "source": [
    "# Verificar valores nulos\n",
    "print(df.isnull().sum())\n"
   ]
  },
  {
   "cell_type": "code",
   "execution_count": 71,
   "metadata": {},
   "outputs": [],
   "source": [
    "df['Titulo'] = df['Titulo'].apply(lambda x: x[:20] if isinstance(x, str) else x)"
   ]
  },
  {
   "cell_type": "code",
   "execution_count": 72,
   "metadata": {},
   "outputs": [],
   "source": [
    "df['Descripcion'] = df['Descripcion'].apply(lambda x: x[:20] if isinstance(x, str) else x)"
   ]
  },
  {
   "cell_type": "code",
   "execution_count": 73,
   "metadata": {},
   "outputs": [],
   "source": [
    "df['Tipo de propiedad'] = df['Tipo de propiedad'].apply(lambda x: x[:20] if isinstance(x, str) else x)"
   ]
  },
  {
   "cell_type": "code",
   "execution_count": 74,
   "metadata": {},
   "outputs": [],
   "source": [
    "df['Tipo de operacion'] = df['Tipo de operacion'].apply(lambda x: x[:20] if isinstance(x, str) else x)"
   ]
  },
  {
   "cell_type": "code",
   "execution_count": 75,
   "metadata": {},
   "outputs": [],
   "source": [
    "df = df.drop(df.iloc[2047070:3982670].index)"
   ]
  },
  {
   "cell_type": "code",
   "execution_count": 76,
   "metadata": {},
   "outputs": [],
   "source": [
    "df.to_csv('cleaned_ar_properties.csv', index=False)"
   ]
  },
  {
   "cell_type": "code",
   "execution_count": 77,
   "metadata": {},
   "outputs": [
    {
     "name": "stdout",
     "output_type": "stream",
     "text": [
      "                   Fecha Publicacion                 Fecha Creacion  \\\n",
      "count                         845417                         845417   \n",
      "mean   2020-06-10 11:14:02.951111168  2020-06-10 11:14:02.951111168   \n",
      "min              2019-12-22 00:00:00            2019-12-22 00:00:00   \n",
      "25%              2020-03-09 00:00:00            2020-03-09 00:00:00   \n",
      "50%              2020-05-20 00:00:00            2020-05-20 00:00:00   \n",
      "75%              2020-09-16 00:00:00            2020-09-16 00:00:00   \n",
      "max              2021-01-14 00:00:00            2021-01-14 00:00:00   \n",
      "std                              NaN                            NaN   \n",
      "\n",
      "             Latitud       Longitud   Habitaciones    Dormitorios  \\\n",
      "count  845417.000000  845417.000000  845417.000000  845417.000000   \n",
      "mean      -34.792506     -59.256396       1.581029       1.001850   \n",
      "min       -54.841484    -119.699390       0.000000     -16.000000   \n",
      "25%       -34.920251     -58.747407       0.000000       0.000000   \n",
      "50%       -34.611534     -58.448365       1.000000       0.000000   \n",
      "75%       -34.456157     -58.168359       3.000000       2.000000   \n",
      "max        47.545277      -1.981231      40.000000     370.000000   \n",
      "std         2.943331       2.637451       1.898781       1.770719   \n",
      "\n",
      "               Baños  surface_total  surface_covered        precio  \n",
      "count  845417.000000  333239.000000     3.361990e+05  8.454170e+05  \n",
      "mean        1.323853     496.243870     5.197069e+02  3.029178e+05  \n",
      "min         0.000000    -136.000000    -1.300000e+02  0.000000e+00  \n",
      "25%         1.000000      50.000000     4.500000e+01  3.500000e+04  \n",
      "50%         1.000000      90.000000     7.400000e+01  9.500000e+04  \n",
      "75%         2.000000     238.000000     1.550000e+02  1.950000e+05  \n",
      "max        20.000000  200000.000000     2.700000e+07  1.000000e+10  \n",
      "std         1.160406    4371.845461     6.384475e+04  1.228988e+07  \n",
      "                              Id       Tipo    end_date       Pais  \\\n",
      "count                     845417     845417      845417     845417   \n",
      "unique                    845417          1         450          4   \n",
      "top     wdQ5hWhv8P14T7Sh9g4QCg==  Propiedad  9999-12-31  Argentina   \n",
      "freq                           1     845417      192307     832349   \n",
      "\n",
      "              Provincia         Ciudad  Moneda  Periodo                Titulo  \\\n",
      "count            845417         845417  845417   845417                845417   \n",
      "unique               43           1199       4        3                212908   \n",
      "top     Capital Federal  Mar del Plata     USD  unknown  Departamento en Vent   \n",
      "freq             208157         134692  639674   531120                 33025   \n",
      "\n",
      "                 Descripcion Tipo de propiedad Tipo de operacion  \n",
      "count                 845417            845417            845417  \n",
      "unique                203965                10                 3  \n",
      "top     Corredor Responsable      Departamento             Venta  \n",
      "freq                   57291            330400            657574  \n"
     ]
    }
   ],
   "source": [
    "print(df.describe())\n",
    "print(df.describe(include=['object']))"
   ]
  },
  {
   "cell_type": "code",
   "execution_count": 78,
   "metadata": {},
   "outputs": [
    {
     "data": {
      "image/png": "[encoded data removed]",
      "text/plain": [
       "<Figure size 640x480 with 1 Axes>"
      ]
     },
     "metadata": {},
     "output_type": "display_data"
    },
    {
     "data": {
      "image/png": "[encoded data removed]",
      "text/plain": [
       "<Figure size 640x480 with 1 Axes>"
      ]
     },
     "metadata": {},
     "output_type": "display_data"
    }
   ],
   "source": [
    "import matplotlib.pyplot as plt\n",
    "import seaborn as sns\n",
    "\n",
    "sns.histplot(df['precio'], bins=50)\n",
    "plt.show()\n",
    "sns.countplot(x='Provincia', data=df)\n",
    "plt.xticks(rotation=90)\n",
    "plt.show()\n"
   ]
  },
  {
   "cell_type": "code",
   "execution_count": 80,
   "metadata": {},
   "outputs": [],
   "source": [
    "import folium\n",
    "import pandas as pd\n",
    "\n",
    "# Cargar el archivo CSV en un DataFrame\n",
    "file_path = 'cleaned_ar_properties.csv'\n",
    "df = pd.read_csv(file_path)\n",
    "\n",
    "# Crear un mapa centrado en Argentina\n",
    "m = folium.Map(location=[-34.0, -64.0], zoom_start=4)\n",
    "\n",
    "# Trabajar con una muestra más pequeña (por ejemplo, los primeros 1000 registros)\n",
    "sample_df = df.head(1000)\n",
    "\n",
    "# Añadir puntos al mapa\n",
    "for idx, row in sample_df.iterrows():\n",
    "    folium.Marker(location=[row['Latitud'], row['Longitud']],\n",
    "                  popup=f\"Precio: {row['precio']}, Habitaciones: {row['Habitaciones']}\").add_to(m)\n",
    "\n",
    "# Guardar el mapa en un archivo HTML\n",
    "m.save('map.html')\n"
   ]
  }
 ],
 "metadata": {
  "kernelspec": {
   "display_name": "propiedades",
   "language": "python",
   "name": "python3"
  },
  "language_info": {
   "codemirror_mode": {
    "name": "ipython",
    "version": 3
   },
   "file_extension": ".py",
   "mimetype": "text/x-python",
   "name": "python",
   "nbconvert_exporter": "python",
   "pygments_lexer": "ipython3",
   "version": "3.8.10"
  }
 },
 "nbformat": 4,
 "nbformat_minor": 2
}
